{
 "cells": [
  {
   "cell_type": "markdown",
   "metadata": {},
   "source": [
    "Texto idioma para outra idioma"
   ]
  },
  {
   "cell_type": "code",
   "execution_count": 2,
   "metadata": {},
   "outputs": [
    {
     "name": "stdout",
     "output_type": "stream",
     "text": [
      "Arquivo falas_sem_minutagem.txt gerado com sucesso!\n"
     ]
    }
   ],
   "source": [
    "# Lista de legendas com falas e minutagens\n",
    "legendas = [\n",
    "    {\"inicio\": \"01:00:14,000\", \"fim\": \"01:00:19,000\", \"fala\": \"Nobara: Quem? (curiosa)\"},\n",
    "    {\"inicio\": \"01:00:24,000\", \"fim\": \"01:00:29,000\", \"fala\": \"Megumi: Interessante. (neutro)\"},\n",
    "    {\"inicio\": \"01:00:33,000\", \"fim\": \"01:00:38,000\", \"fala\": \"Itadori: Vamos lá! (animado)\"},\n",
    "    {\"inicio\": \"01:00:35,000\", \"fim\": \"01:00:40,000\", \"fala\": \"Maki: Ótimo! (entusiasmada)\"},\n",
    "    {\"inicio\": \"01:00:41,000\", \"fim\": \"01:00:46,000\", \"fala\": \"Toge: Shake, shake! (empolgado)\"},\n",
    "    {\"inicio\": \"01:00:50,000\", \"fim\": \"01:00:55,000\", \"fala\": \"Gojo: Isso é tudo? (desapontado)\"},\n",
    "    {\"inicio\": \"01:01:00,000\", \"fim\": \"01:01:05,000\", \"fala\": \"Nobara: Fácil demais. (desdenhosa)\"},\n",
    "    {\"inicio\": \"01:01:04,000\", \"fim\": \"01:01:09,000\", \"fala\": \"Megumi: Bem pensado. (impressionado)\"},\n",
    "    {\"inicio\": \"01:01:15,000\", \"fim\": \"01:01:20,000\", \"fala\": \"Maki: Agora vai! (confiante)\"},\n",
    "    {\"inicio\": \"01:01:30,000\", \"fim\": \"01:01:35,000\", \"fala\": \"Itadori: Que demais! (surpreso)\"},\n",
    "    {\"inicio\": \"01:01:43,000\", \"fim\": \"01:01:48,000\", \"fala\": \"Gojo: Isso é chato. (entediado)\"},\n",
    "    {\"inicio\": \"01:02:00,000\", \"fim\": \"01:02:05,000\", \"fala\": \"Toge: Incrível! (entusiasmado)\"}\n",
    "]\n",
    "\n",
    "# Cria um novo arquivo apenas com as falas\n",
    "with open(\"falas_sem_minutagem.txt\", \"w\", encoding=\"utf-8\") as arquivo:\n",
    "    for legenda in legendas:\n",
    "        # Escreve a fala sem a minutagem\n",
    "        arquivo.write(f\"{legenda['fala']}\\n\")\n",
    "\n",
    "print(\"Arquivo falas_sem_minutagem.txt gerado com sucesso!\")\n"
   ]
  }
 ],
 "metadata": {
  "kernelspec": {
   "display_name": "Python 3",
   "language": "python",
   "name": "python3"
  },
  "language_info": {
   "codemirror_mode": {
    "name": "ipython",
    "version": 3
   },
   "file_extension": ".py",
   "mimetype": "text/x-python",
   "name": "python",
   "nbconvert_exporter": "python",
   "pygments_lexer": "ipython3",
   "version": "3.12.0"
  }
 },
 "nbformat": 4,
 "nbformat_minor": 2
}
