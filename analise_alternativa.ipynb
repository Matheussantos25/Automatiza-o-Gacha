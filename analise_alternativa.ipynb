{
 "cells": [
  {
   "cell_type": "markdown",
   "metadata": {},
   "source": [
    "Através de png"
   ]
  },
  {
   "cell_type": "code",
   "execution_count": 8,
   "metadata": {},
   "outputs": [
    {
     "ename": "NotImplementedError",
     "evalue": "The confidence keyword argument is only available if OpenCV is installed.",
     "output_type": "error",
     "traceback": [
      "\u001b[1;31m---------------------------------------------------------------------------\u001b[0m",
      "\u001b[1;31mNotImplementedError\u001b[0m                       Traceback (most recent call last)",
      "Cell \u001b[1;32mIn[8], line 16\u001b[0m\n\u001b[0;32m     13\u001b[0m \u001b[38;5;28;01mwhile\u001b[39;00m \u001b[38;5;28;01mTrue\u001b[39;00m:\n\u001b[0;32m     14\u001b[0m     \u001b[38;5;28;01mfor\u001b[39;00m image \u001b[38;5;129;01min\u001b[39;00m image_paths:\n\u001b[0;32m     15\u001b[0m         \u001b[38;5;66;03m# Tenta localizar o centro da imagem na tela\u001b[39;00m\n\u001b[1;32m---> 16\u001b[0m         location \u001b[38;5;241m=\u001b[39m \u001b[43mpyautogui\u001b[49m\u001b[38;5;241;43m.\u001b[39;49m\u001b[43mlocateCenterOnScreen\u001b[49m\u001b[43m(\u001b[49m\u001b[43mimage\u001b[49m\u001b[43m,\u001b[49m\u001b[43m \u001b[49m\u001b[43mconfidence\u001b[49m\u001b[38;5;241;43m=\u001b[39;49m\u001b[38;5;241;43m0.8\u001b[39;49m\u001b[43m)\u001b[49m  \u001b[38;5;66;03m# Ajuste a confiança se necessário (0.8 é 80%)\u001b[39;00m\n\u001b[0;32m     18\u001b[0m         \u001b[38;5;28;01mif\u001b[39;00m location \u001b[38;5;129;01mis\u001b[39;00m \u001b[38;5;129;01mnot\u001b[39;00m \u001b[38;5;28;01mNone\u001b[39;00m:\n\u001b[0;32m     19\u001b[0m             \u001b[38;5;66;03m# Clica no local encontrado\u001b[39;00m\n\u001b[0;32m     20\u001b[0m             pyautogui\u001b[38;5;241m.\u001b[39mclick(location)\n",
      "File \u001b[1;32mc:\\Users\\msdof\\AppData\\Local\\Programs\\Python\\Python312\\Lib\\site-packages\\pyautogui\\__init__.py:172\u001b[0m, in \u001b[0;36mraisePyAutoGUIImageNotFoundException.<locals>.wrapper\u001b[1;34m(*args, **kwargs)\u001b[0m\n\u001b[0;32m    169\u001b[0m \u001b[38;5;129m@functools\u001b[39m\u001b[38;5;241m.\u001b[39mwraps(wrappedFunction)\n\u001b[0;32m    170\u001b[0m \u001b[38;5;28;01mdef\u001b[39;00m \u001b[38;5;21mwrapper\u001b[39m(\u001b[38;5;241m*\u001b[39margs, \u001b[38;5;241m*\u001b[39m\u001b[38;5;241m*\u001b[39mkwargs):\n\u001b[0;32m    171\u001b[0m     \u001b[38;5;28;01mtry\u001b[39;00m:\n\u001b[1;32m--> 172\u001b[0m         \u001b[38;5;28;01mreturn\u001b[39;00m \u001b[43mwrappedFunction\u001b[49m\u001b[43m(\u001b[49m\u001b[38;5;241;43m*\u001b[39;49m\u001b[43margs\u001b[49m\u001b[43m,\u001b[49m\u001b[43m \u001b[49m\u001b[38;5;241;43m*\u001b[39;49m\u001b[38;5;241;43m*\u001b[39;49m\u001b[43mkwargs\u001b[49m\u001b[43m)\u001b[49m\n\u001b[0;32m    173\u001b[0m     \u001b[38;5;28;01mexcept\u001b[39;00m pyscreeze\u001b[38;5;241m.\u001b[39mImageNotFoundException:\n\u001b[0;32m    174\u001b[0m         \u001b[38;5;28;01mraise\u001b[39;00m ImageNotFoundException\n",
      "File \u001b[1;32mc:\\Users\\msdof\\AppData\\Local\\Programs\\Python\\Python312\\Lib\\site-packages\\pyautogui\\__init__.py:204\u001b[0m, in \u001b[0;36mlocateCenterOnScreen\u001b[1;34m(*args, **kwargs)\u001b[0m\n\u001b[0;32m    202\u001b[0m \u001b[38;5;129m@raisePyAutoGUIImageNotFoundException\u001b[39m\n\u001b[0;32m    203\u001b[0m \u001b[38;5;28;01mdef\u001b[39;00m \u001b[38;5;21mlocateCenterOnScreen\u001b[39m(\u001b[38;5;241m*\u001b[39margs, \u001b[38;5;241m*\u001b[39m\u001b[38;5;241m*\u001b[39mkwargs):\n\u001b[1;32m--> 204\u001b[0m     \u001b[38;5;28;01mreturn\u001b[39;00m \u001b[43mpyscreeze\u001b[49m\u001b[38;5;241;43m.\u001b[39;49m\u001b[43mlocateCenterOnScreen\u001b[49m\u001b[43m(\u001b[49m\u001b[38;5;241;43m*\u001b[39;49m\u001b[43margs\u001b[49m\u001b[43m,\u001b[49m\u001b[43m \u001b[49m\u001b[38;5;241;43m*\u001b[39;49m\u001b[38;5;241;43m*\u001b[39;49m\u001b[43mkwargs\u001b[49m\u001b[43m)\u001b[49m\n",
      "File \u001b[1;32mc:\\Users\\msdof\\AppData\\Local\\Programs\\Python\\Python312\\Lib\\site-packages\\pyscreeze\\__init__.py:447\u001b[0m, in \u001b[0;36mlocateCenterOnScreen\u001b[1;34m(image, **kwargs)\u001b[0m\n\u001b[0;32m    443\u001b[0m \u001b[38;5;28;01mdef\u001b[39;00m \u001b[38;5;21mlocateCenterOnScreen\u001b[39m(image, \u001b[38;5;241m*\u001b[39m\u001b[38;5;241m*\u001b[39mkwargs):\n\u001b[0;32m    444\u001b[0m \u001b[38;5;250m    \u001b[39m\u001b[38;5;124;03m\"\"\"\u001b[39;00m\n\u001b[0;32m    445\u001b[0m \u001b[38;5;124;03m    TODO\u001b[39;00m\n\u001b[0;32m    446\u001b[0m \u001b[38;5;124;03m    \"\"\"\u001b[39;00m\n\u001b[1;32m--> 447\u001b[0m     coords \u001b[38;5;241m=\u001b[39m \u001b[43mlocateOnScreen\u001b[49m\u001b[43m(\u001b[49m\u001b[43mimage\u001b[49m\u001b[43m,\u001b[49m\u001b[43m \u001b[49m\u001b[38;5;241;43m*\u001b[39;49m\u001b[38;5;241;43m*\u001b[39;49m\u001b[43mkwargs\u001b[49m\u001b[43m)\u001b[49m\n\u001b[0;32m    448\u001b[0m     \u001b[38;5;28;01mif\u001b[39;00m coords \u001b[38;5;129;01mis\u001b[39;00m \u001b[38;5;28;01mNone\u001b[39;00m:\n\u001b[0;32m    449\u001b[0m         \u001b[38;5;28;01mreturn\u001b[39;00m \u001b[38;5;28;01mNone\u001b[39;00m\n",
      "File \u001b[1;32mc:\\Users\\msdof\\AppData\\Local\\Programs\\Python\\Python312\\Lib\\site-packages\\pyscreeze\\__init__.py:405\u001b[0m, in \u001b[0;36mlocateOnScreen\u001b[1;34m(image, minSearchTime, **kwargs)\u001b[0m\n\u001b[0;32m    401\u001b[0m \u001b[38;5;28;01mtry\u001b[39;00m:\n\u001b[0;32m    402\u001b[0m     \u001b[38;5;66;03m# the locateAll() function must handle cropping to return accurate coordinates,\u001b[39;00m\n\u001b[0;32m    403\u001b[0m     \u001b[38;5;66;03m# so don't pass a region here.\u001b[39;00m\n\u001b[0;32m    404\u001b[0m     screenshotIm \u001b[38;5;241m=\u001b[39m screenshot(region\u001b[38;5;241m=\u001b[39m\u001b[38;5;28;01mNone\u001b[39;00m)\n\u001b[1;32m--> 405\u001b[0m     retVal \u001b[38;5;241m=\u001b[39m \u001b[43mlocate\u001b[49m\u001b[43m(\u001b[49m\u001b[43mimage\u001b[49m\u001b[43m,\u001b[49m\u001b[43m \u001b[49m\u001b[43mscreenshotIm\u001b[49m\u001b[43m,\u001b[49m\u001b[43m \u001b[49m\u001b[38;5;241;43m*\u001b[39;49m\u001b[38;5;241;43m*\u001b[39;49m\u001b[43mkwargs\u001b[49m\u001b[43m)\u001b[49m\n\u001b[0;32m    406\u001b[0m     \u001b[38;5;28;01mtry\u001b[39;00m:\n\u001b[0;32m    407\u001b[0m         screenshotIm\u001b[38;5;241m.\u001b[39mfp\u001b[38;5;241m.\u001b[39mclose()\n",
      "File \u001b[1;32mc:\\Users\\msdof\\AppData\\Local\\Programs\\Python\\Python312\\Lib\\site-packages\\pyscreeze\\__init__.py:383\u001b[0m, in \u001b[0;36mlocate\u001b[1;34m(needleImage, haystackImage, **kwargs)\u001b[0m\n\u001b[0;32m    380\u001b[0m \u001b[38;5;66;03m# Note: The gymnastics in this function is because we want to make sure to exhaust the iterator so that\u001b[39;00m\n\u001b[0;32m    381\u001b[0m \u001b[38;5;66;03m# the needle and haystack files are closed in locateAll.\u001b[39;00m\n\u001b[0;32m    382\u001b[0m kwargs[\u001b[38;5;124m'\u001b[39m\u001b[38;5;124mlimit\u001b[39m\u001b[38;5;124m'\u001b[39m] \u001b[38;5;241m=\u001b[39m \u001b[38;5;241m1\u001b[39m\n\u001b[1;32m--> 383\u001b[0m points \u001b[38;5;241m=\u001b[39m \u001b[38;5;28;43mtuple\u001b[39;49m\u001b[43m(\u001b[49m\u001b[43mlocateAll\u001b[49m\u001b[43m(\u001b[49m\u001b[43mneedleImage\u001b[49m\u001b[43m,\u001b[49m\u001b[43m \u001b[49m\u001b[43mhaystackImage\u001b[49m\u001b[43m,\u001b[49m\u001b[43m \u001b[49m\u001b[38;5;241;43m*\u001b[39;49m\u001b[38;5;241;43m*\u001b[39;49m\u001b[43mkwargs\u001b[49m\u001b[43m)\u001b[49m\u001b[43m)\u001b[49m\n\u001b[0;32m    384\u001b[0m \u001b[38;5;28;01mif\u001b[39;00m \u001b[38;5;28mlen\u001b[39m(points) \u001b[38;5;241m>\u001b[39m \u001b[38;5;241m0\u001b[39m:\n\u001b[0;32m    385\u001b[0m     \u001b[38;5;28;01mreturn\u001b[39;00m points[\u001b[38;5;241m0\u001b[39m]\n",
      "File \u001b[1;32mc:\\Users\\msdof\\AppData\\Local\\Programs\\Python\\Python312\\Lib\\site-packages\\pyscreeze\\__init__.py:273\u001b[0m, in \u001b[0;36m_locateAll_pillow\u001b[1;34m(needleImage, haystackImage, grayscale, limit, region, step, confidence)\u001b[0m\n\u001b[0;32m    269\u001b[0m \u001b[38;5;250m\u001b[39m\u001b[38;5;124;03m\"\"\"\u001b[39;00m\n\u001b[0;32m    270\u001b[0m \u001b[38;5;124;03mTODO\u001b[39;00m\n\u001b[0;32m    271\u001b[0m \u001b[38;5;124;03m\"\"\"\u001b[39;00m\n\u001b[0;32m    272\u001b[0m \u001b[38;5;28;01mif\u001b[39;00m confidence \u001b[38;5;129;01mis\u001b[39;00m \u001b[38;5;129;01mnot\u001b[39;00m \u001b[38;5;28;01mNone\u001b[39;00m:\n\u001b[1;32m--> 273\u001b[0m     \u001b[38;5;28;01mraise\u001b[39;00m \u001b[38;5;167;01mNotImplementedError\u001b[39;00m(\u001b[38;5;124m'\u001b[39m\u001b[38;5;124mThe confidence keyword argument is only available if OpenCV is installed.\u001b[39m\u001b[38;5;124m'\u001b[39m)\n\u001b[0;32m    275\u001b[0m \u001b[38;5;66;03m# setup all the arguments\u001b[39;00m\n\u001b[0;32m    276\u001b[0m \u001b[38;5;28;01mif\u001b[39;00m grayscale \u001b[38;5;129;01mis\u001b[39;00m \u001b[38;5;28;01mNone\u001b[39;00m:\n",
      "\u001b[1;31mNotImplementedError\u001b[0m: The confidence keyword argument is only available if OpenCV is installed."
     ]
    }
   ],
   "source": [
    "import pyautogui\n",
    "import time\n",
    "\n",
    "# Defina os caminhos das imagens de referência (como botões ou ícones)\n",
    "image_paths = [\n",
    "    'Normal.png',\n",
    "    'Chorando.png',\n",
    "    'Surpreso.png',\n",
    "    'Vislumbrado.png'\n",
    "]\n",
    "\n",
    "# Loop infinito para clicar nas coordenadas detectadas dinamicamente e tirar prints\n",
    "while True:\n",
    "    for image in image_paths:\n",
    "        # Tenta localizar o centro da imagem na tela\n",
    "        location = pyautogui.locateCenterOnScreen(image, confidence=0.8)  # Ajuste a confiança se necessário (0.8 é 80%)\n",
    "        \n",
    "        if location is not None:\n",
    "            # Clica no local encontrado\n",
    "            pyautogui.click(location)\n",
    "            time.sleep(3)  # Aguarda 3 segundos antes do próximo clique\n",
    "        else:\n",
    "            print(f\"Imagem {image} não encontrada na tela.\")\n",
    "\n",
    "    # Tira o print após clicar na última coordenada\n",
    "    myScreenshot = pyautogui.screenshot()\n",
    "    myScreenshot.save(r'screenshot.png')\n",
    "    print(\"Print salvo como screenshot.png\")\n",
    "\n",
    "    time.sleep(3)  # Aguarda 3 segundos antes de recomeçar o ciclo\n"
   ]
  },
  {
   "cell_type": "code",
   "execution_count": 3,
   "metadata": {},
   "outputs": [
    {
     "name": "stdout",
     "output_type": "stream",
     "text": [
      "4.10.0\n"
     ]
    }
   ],
   "source": [
    "import cv2\n",
    "print(cv2.__version__)\n"
   ]
  },
  {
   "cell_type": "code",
   "execution_count": 7,
   "metadata": {},
   "outputs": [
    {
     "ename": "NotImplementedError",
     "evalue": "The confidence keyword argument is only available if OpenCV is installed.",
     "output_type": "error",
     "traceback": [
      "\u001b[1;31m---------------------------------------------------------------------------\u001b[0m",
      "\u001b[1;31mNotImplementedError\u001b[0m                       Traceback (most recent call last)",
      "Cell \u001b[1;32mIn[7], line 17\u001b[0m\n\u001b[0;32m     14\u001b[0m \u001b[38;5;28;01mwhile\u001b[39;00m \u001b[38;5;28;01mTrue\u001b[39;00m:\n\u001b[0;32m     15\u001b[0m     \u001b[38;5;28;01mfor\u001b[39;00m image \u001b[38;5;129;01min\u001b[39;00m image_paths:\n\u001b[0;32m     16\u001b[0m         \u001b[38;5;66;03m# Tenta localizar o centro da imagem na tela com a confiança configurada\u001b[39;00m\n\u001b[1;32m---> 17\u001b[0m         location \u001b[38;5;241m=\u001b[39m \u001b[43mpyautogui\u001b[49m\u001b[38;5;241;43m.\u001b[39;49m\u001b[43mlocateCenterOnScreen\u001b[49m\u001b[43m(\u001b[49m\u001b[43mimage\u001b[49m\u001b[43m,\u001b[49m\u001b[43m \u001b[49m\u001b[43mconfidence\u001b[49m\u001b[38;5;241;43m=\u001b[39;49m\u001b[38;5;241;43m0.8\u001b[39;49m\u001b[43m)\u001b[49m  \u001b[38;5;66;03m# Agora com OpenCV funcionando!\u001b[39;00m\n\u001b[0;32m     19\u001b[0m         \u001b[38;5;28;01mif\u001b[39;00m location \u001b[38;5;129;01mis\u001b[39;00m \u001b[38;5;129;01mnot\u001b[39;00m \u001b[38;5;28;01mNone\u001b[39;00m:\n\u001b[0;32m     20\u001b[0m             \u001b[38;5;66;03m# Clica no local encontrado\u001b[39;00m\n\u001b[0;32m     21\u001b[0m             pyautogui\u001b[38;5;241m.\u001b[39mclick(location)\n",
      "File \u001b[1;32mc:\\Users\\msdof\\AppData\\Local\\Programs\\Python\\Python312\\Lib\\site-packages\\pyautogui\\__init__.py:172\u001b[0m, in \u001b[0;36mraisePyAutoGUIImageNotFoundException.<locals>.wrapper\u001b[1;34m(*args, **kwargs)\u001b[0m\n\u001b[0;32m    169\u001b[0m \u001b[38;5;129m@functools\u001b[39m\u001b[38;5;241m.\u001b[39mwraps(wrappedFunction)\n\u001b[0;32m    170\u001b[0m \u001b[38;5;28;01mdef\u001b[39;00m \u001b[38;5;21mwrapper\u001b[39m(\u001b[38;5;241m*\u001b[39margs, \u001b[38;5;241m*\u001b[39m\u001b[38;5;241m*\u001b[39mkwargs):\n\u001b[0;32m    171\u001b[0m     \u001b[38;5;28;01mtry\u001b[39;00m:\n\u001b[1;32m--> 172\u001b[0m         \u001b[38;5;28;01mreturn\u001b[39;00m \u001b[43mwrappedFunction\u001b[49m\u001b[43m(\u001b[49m\u001b[38;5;241;43m*\u001b[39;49m\u001b[43margs\u001b[49m\u001b[43m,\u001b[49m\u001b[43m \u001b[49m\u001b[38;5;241;43m*\u001b[39;49m\u001b[38;5;241;43m*\u001b[39;49m\u001b[43mkwargs\u001b[49m\u001b[43m)\u001b[49m\n\u001b[0;32m    173\u001b[0m     \u001b[38;5;28;01mexcept\u001b[39;00m pyscreeze\u001b[38;5;241m.\u001b[39mImageNotFoundException:\n\u001b[0;32m    174\u001b[0m         \u001b[38;5;28;01mraise\u001b[39;00m ImageNotFoundException\n",
      "File \u001b[1;32mc:\\Users\\msdof\\AppData\\Local\\Programs\\Python\\Python312\\Lib\\site-packages\\pyautogui\\__init__.py:204\u001b[0m, in \u001b[0;36mlocateCenterOnScreen\u001b[1;34m(*args, **kwargs)\u001b[0m\n\u001b[0;32m    202\u001b[0m \u001b[38;5;129m@raisePyAutoGUIImageNotFoundException\u001b[39m\n\u001b[0;32m    203\u001b[0m \u001b[38;5;28;01mdef\u001b[39;00m \u001b[38;5;21mlocateCenterOnScreen\u001b[39m(\u001b[38;5;241m*\u001b[39margs, \u001b[38;5;241m*\u001b[39m\u001b[38;5;241m*\u001b[39mkwargs):\n\u001b[1;32m--> 204\u001b[0m     \u001b[38;5;28;01mreturn\u001b[39;00m \u001b[43mpyscreeze\u001b[49m\u001b[38;5;241;43m.\u001b[39;49m\u001b[43mlocateCenterOnScreen\u001b[49m\u001b[43m(\u001b[49m\u001b[38;5;241;43m*\u001b[39;49m\u001b[43margs\u001b[49m\u001b[43m,\u001b[49m\u001b[43m \u001b[49m\u001b[38;5;241;43m*\u001b[39;49m\u001b[38;5;241;43m*\u001b[39;49m\u001b[43mkwargs\u001b[49m\u001b[43m)\u001b[49m\n",
      "File \u001b[1;32mc:\\Users\\msdof\\AppData\\Local\\Programs\\Python\\Python312\\Lib\\site-packages\\pyscreeze\\__init__.py:447\u001b[0m, in \u001b[0;36mlocateCenterOnScreen\u001b[1;34m(image, **kwargs)\u001b[0m\n\u001b[0;32m    443\u001b[0m \u001b[38;5;28;01mdef\u001b[39;00m \u001b[38;5;21mlocateCenterOnScreen\u001b[39m(image, \u001b[38;5;241m*\u001b[39m\u001b[38;5;241m*\u001b[39mkwargs):\n\u001b[0;32m    444\u001b[0m \u001b[38;5;250m    \u001b[39m\u001b[38;5;124;03m\"\"\"\u001b[39;00m\n\u001b[0;32m    445\u001b[0m \u001b[38;5;124;03m    TODO\u001b[39;00m\n\u001b[0;32m    446\u001b[0m \u001b[38;5;124;03m    \"\"\"\u001b[39;00m\n\u001b[1;32m--> 447\u001b[0m     coords \u001b[38;5;241m=\u001b[39m \u001b[43mlocateOnScreen\u001b[49m\u001b[43m(\u001b[49m\u001b[43mimage\u001b[49m\u001b[43m,\u001b[49m\u001b[43m \u001b[49m\u001b[38;5;241;43m*\u001b[39;49m\u001b[38;5;241;43m*\u001b[39;49m\u001b[43mkwargs\u001b[49m\u001b[43m)\u001b[49m\n\u001b[0;32m    448\u001b[0m     \u001b[38;5;28;01mif\u001b[39;00m coords \u001b[38;5;129;01mis\u001b[39;00m \u001b[38;5;28;01mNone\u001b[39;00m:\n\u001b[0;32m    449\u001b[0m         \u001b[38;5;28;01mreturn\u001b[39;00m \u001b[38;5;28;01mNone\u001b[39;00m\n",
      "File \u001b[1;32mc:\\Users\\msdof\\AppData\\Local\\Programs\\Python\\Python312\\Lib\\site-packages\\pyscreeze\\__init__.py:405\u001b[0m, in \u001b[0;36mlocateOnScreen\u001b[1;34m(image, minSearchTime, **kwargs)\u001b[0m\n\u001b[0;32m    401\u001b[0m \u001b[38;5;28;01mtry\u001b[39;00m:\n\u001b[0;32m    402\u001b[0m     \u001b[38;5;66;03m# the locateAll() function must handle cropping to return accurate coordinates,\u001b[39;00m\n\u001b[0;32m    403\u001b[0m     \u001b[38;5;66;03m# so don't pass a region here.\u001b[39;00m\n\u001b[0;32m    404\u001b[0m     screenshotIm \u001b[38;5;241m=\u001b[39m screenshot(region\u001b[38;5;241m=\u001b[39m\u001b[38;5;28;01mNone\u001b[39;00m)\n\u001b[1;32m--> 405\u001b[0m     retVal \u001b[38;5;241m=\u001b[39m \u001b[43mlocate\u001b[49m\u001b[43m(\u001b[49m\u001b[43mimage\u001b[49m\u001b[43m,\u001b[49m\u001b[43m \u001b[49m\u001b[43mscreenshotIm\u001b[49m\u001b[43m,\u001b[49m\u001b[43m \u001b[49m\u001b[38;5;241;43m*\u001b[39;49m\u001b[38;5;241;43m*\u001b[39;49m\u001b[43mkwargs\u001b[49m\u001b[43m)\u001b[49m\n\u001b[0;32m    406\u001b[0m     \u001b[38;5;28;01mtry\u001b[39;00m:\n\u001b[0;32m    407\u001b[0m         screenshotIm\u001b[38;5;241m.\u001b[39mfp\u001b[38;5;241m.\u001b[39mclose()\n",
      "File \u001b[1;32mc:\\Users\\msdof\\AppData\\Local\\Programs\\Python\\Python312\\Lib\\site-packages\\pyscreeze\\__init__.py:383\u001b[0m, in \u001b[0;36mlocate\u001b[1;34m(needleImage, haystackImage, **kwargs)\u001b[0m\n\u001b[0;32m    380\u001b[0m \u001b[38;5;66;03m# Note: The gymnastics in this function is because we want to make sure to exhaust the iterator so that\u001b[39;00m\n\u001b[0;32m    381\u001b[0m \u001b[38;5;66;03m# the needle and haystack files are closed in locateAll.\u001b[39;00m\n\u001b[0;32m    382\u001b[0m kwargs[\u001b[38;5;124m'\u001b[39m\u001b[38;5;124mlimit\u001b[39m\u001b[38;5;124m'\u001b[39m] \u001b[38;5;241m=\u001b[39m \u001b[38;5;241m1\u001b[39m\n\u001b[1;32m--> 383\u001b[0m points \u001b[38;5;241m=\u001b[39m \u001b[38;5;28;43mtuple\u001b[39;49m\u001b[43m(\u001b[49m\u001b[43mlocateAll\u001b[49m\u001b[43m(\u001b[49m\u001b[43mneedleImage\u001b[49m\u001b[43m,\u001b[49m\u001b[43m \u001b[49m\u001b[43mhaystackImage\u001b[49m\u001b[43m,\u001b[49m\u001b[43m \u001b[49m\u001b[38;5;241;43m*\u001b[39;49m\u001b[38;5;241;43m*\u001b[39;49m\u001b[43mkwargs\u001b[49m\u001b[43m)\u001b[49m\u001b[43m)\u001b[49m\n\u001b[0;32m    384\u001b[0m \u001b[38;5;28;01mif\u001b[39;00m \u001b[38;5;28mlen\u001b[39m(points) \u001b[38;5;241m>\u001b[39m \u001b[38;5;241m0\u001b[39m:\n\u001b[0;32m    385\u001b[0m     \u001b[38;5;28;01mreturn\u001b[39;00m points[\u001b[38;5;241m0\u001b[39m]\n",
      "File \u001b[1;32mc:\\Users\\msdof\\AppData\\Local\\Programs\\Python\\Python312\\Lib\\site-packages\\pyscreeze\\__init__.py:273\u001b[0m, in \u001b[0;36m_locateAll_pillow\u001b[1;34m(needleImage, haystackImage, grayscale, limit, region, step, confidence)\u001b[0m\n\u001b[0;32m    269\u001b[0m \u001b[38;5;250m\u001b[39m\u001b[38;5;124;03m\"\"\"\u001b[39;00m\n\u001b[0;32m    270\u001b[0m \u001b[38;5;124;03mTODO\u001b[39;00m\n\u001b[0;32m    271\u001b[0m \u001b[38;5;124;03m\"\"\"\u001b[39;00m\n\u001b[0;32m    272\u001b[0m \u001b[38;5;28;01mif\u001b[39;00m confidence \u001b[38;5;129;01mis\u001b[39;00m \u001b[38;5;129;01mnot\u001b[39;00m \u001b[38;5;28;01mNone\u001b[39;00m:\n\u001b[1;32m--> 273\u001b[0m     \u001b[38;5;28;01mraise\u001b[39;00m \u001b[38;5;167;01mNotImplementedError\u001b[39;00m(\u001b[38;5;124m'\u001b[39m\u001b[38;5;124mThe confidence keyword argument is only available if OpenCV is installed.\u001b[39m\u001b[38;5;124m'\u001b[39m)\n\u001b[0;32m    275\u001b[0m \u001b[38;5;66;03m# setup all the arguments\u001b[39;00m\n\u001b[0;32m    276\u001b[0m \u001b[38;5;28;01mif\u001b[39;00m grayscale \u001b[38;5;129;01mis\u001b[39;00m \u001b[38;5;28;01mNone\u001b[39;00m:\n",
      "\u001b[1;31mNotImplementedError\u001b[0m: The confidence keyword argument is only available if OpenCV is installed."
     ]
    }
   ],
   "source": [
    "import pyautogui\n",
    "import time\n",
    "import cv2  # Certifique-se de que o OpenCV está instalado corretamente\n",
    "\n",
    "# Defina os caminhos das imagens de referência (como botões ou ícones)\n",
    "image_paths = [\n",
    "    'Normal.png',\n",
    "    'Chorando.png',\n",
    "    'Surpreso.png',\n",
    "    'Vislumbrado.png'\n",
    "]\n",
    "\n",
    "# Loop infinito para clicar nas coordenadas detectadas dinamicamente e tirar prints\n",
    "while True:\n",
    "    for image in image_paths:\n",
    "        # Tenta localizar o centro da imagem na tela com a confiança configurada\n",
    "        location = pyautogui.locateCenterOnScreen(image, confidence=0.8)  # Agora com OpenCV funcionando!\n",
    "\n",
    "        if location is not None:\n",
    "            # Clica no local encontrado\n",
    "            pyautogui.click(location)\n",
    "            time.sleep(3)  # Aguarda 3 segundos antes do próximo clique\n",
    "        else:\n",
    "            print(f\"Imagem {image} não encontrada na tela.\")\n",
    "\n",
    "    # Tira o print após clicar na última coordenada\n",
    "    myScreenshot = pyautogui.screenshot()\n",
    "    myScreenshot.save(r'screenshot.png')\n",
    "    print(\"Print salvo como screenshot.png\")\n",
    "\n",
    "    time.sleep(3)  # Aguarda 3 segundos antes de recomeçar o ciclo\n"
   ]
  },
  {
   "cell_type": "code",
   "execution_count": 4,
   "metadata": {},
   "outputs": [
    {
     "ename": "NotImplementedError",
     "evalue": "The confidence keyword argument is only available if OpenCV is installed.",
     "output_type": "error",
     "traceback": [
      "\u001b[1;31m---------------------------------------------------------------------------\u001b[0m",
      "\u001b[1;31mNotImplementedError\u001b[0m                       Traceback (most recent call last)",
      "Cell \u001b[1;32mIn[4], line 16\u001b[0m\n\u001b[0;32m     13\u001b[0m \u001b[38;5;28;01mwhile\u001b[39;00m \u001b[38;5;28;01mTrue\u001b[39;00m:\n\u001b[0;32m     14\u001b[0m     \u001b[38;5;28;01mfor\u001b[39;00m image \u001b[38;5;129;01min\u001b[39;00m image_paths:\n\u001b[0;32m     15\u001b[0m         \u001b[38;5;66;03m# Tenta localizar o centro da imagem na tela\u001b[39;00m\n\u001b[1;32m---> 16\u001b[0m         location \u001b[38;5;241m=\u001b[39m \u001b[43mpyautogui\u001b[49m\u001b[38;5;241;43m.\u001b[39;49m\u001b[43mlocateCenterOnScreen\u001b[49m\u001b[43m(\u001b[49m\u001b[43mimage\u001b[49m\u001b[43m,\u001b[49m\u001b[43m \u001b[49m\u001b[43mconfidence\u001b[49m\u001b[38;5;241;43m=\u001b[39;49m\u001b[38;5;241;43m0.8\u001b[39;49m\u001b[43m)\u001b[49m  \u001b[38;5;66;03m# Ajuste a confiança se necessário (0.8 é 80%)\u001b[39;00m\n\u001b[0;32m     18\u001b[0m         \u001b[38;5;28;01mif\u001b[39;00m location \u001b[38;5;129;01mis\u001b[39;00m \u001b[38;5;129;01mnot\u001b[39;00m \u001b[38;5;28;01mNone\u001b[39;00m:\n\u001b[0;32m     19\u001b[0m             \u001b[38;5;66;03m# Clica no local encontrado\u001b[39;00m\n\u001b[0;32m     20\u001b[0m             pyautogui\u001b[38;5;241m.\u001b[39mclick(location)\n",
      "File \u001b[1;32mc:\\Users\\msdof\\AppData\\Local\\Programs\\Python\\Python312\\Lib\\site-packages\\pyautogui\\__init__.py:172\u001b[0m, in \u001b[0;36mraisePyAutoGUIImageNotFoundException.<locals>.wrapper\u001b[1;34m(*args, **kwargs)\u001b[0m\n\u001b[0;32m    169\u001b[0m \u001b[38;5;129m@functools\u001b[39m\u001b[38;5;241m.\u001b[39mwraps(wrappedFunction)\n\u001b[0;32m    170\u001b[0m \u001b[38;5;28;01mdef\u001b[39;00m \u001b[38;5;21mwrapper\u001b[39m(\u001b[38;5;241m*\u001b[39margs, \u001b[38;5;241m*\u001b[39m\u001b[38;5;241m*\u001b[39mkwargs):\n\u001b[0;32m    171\u001b[0m     \u001b[38;5;28;01mtry\u001b[39;00m:\n\u001b[1;32m--> 172\u001b[0m         \u001b[38;5;28;01mreturn\u001b[39;00m \u001b[43mwrappedFunction\u001b[49m\u001b[43m(\u001b[49m\u001b[38;5;241;43m*\u001b[39;49m\u001b[43margs\u001b[49m\u001b[43m,\u001b[49m\u001b[43m \u001b[49m\u001b[38;5;241;43m*\u001b[39;49m\u001b[38;5;241;43m*\u001b[39;49m\u001b[43mkwargs\u001b[49m\u001b[43m)\u001b[49m\n\u001b[0;32m    173\u001b[0m     \u001b[38;5;28;01mexcept\u001b[39;00m pyscreeze\u001b[38;5;241m.\u001b[39mImageNotFoundException:\n\u001b[0;32m    174\u001b[0m         \u001b[38;5;28;01mraise\u001b[39;00m ImageNotFoundException\n",
      "File \u001b[1;32mc:\\Users\\msdof\\AppData\\Local\\Programs\\Python\\Python312\\Lib\\site-packages\\pyautogui\\__init__.py:204\u001b[0m, in \u001b[0;36mlocateCenterOnScreen\u001b[1;34m(*args, **kwargs)\u001b[0m\n\u001b[0;32m    202\u001b[0m \u001b[38;5;129m@raisePyAutoGUIImageNotFoundException\u001b[39m\n\u001b[0;32m    203\u001b[0m \u001b[38;5;28;01mdef\u001b[39;00m \u001b[38;5;21mlocateCenterOnScreen\u001b[39m(\u001b[38;5;241m*\u001b[39margs, \u001b[38;5;241m*\u001b[39m\u001b[38;5;241m*\u001b[39mkwargs):\n\u001b[1;32m--> 204\u001b[0m     \u001b[38;5;28;01mreturn\u001b[39;00m \u001b[43mpyscreeze\u001b[49m\u001b[38;5;241;43m.\u001b[39;49m\u001b[43mlocateCenterOnScreen\u001b[49m\u001b[43m(\u001b[49m\u001b[38;5;241;43m*\u001b[39;49m\u001b[43margs\u001b[49m\u001b[43m,\u001b[49m\u001b[43m \u001b[49m\u001b[38;5;241;43m*\u001b[39;49m\u001b[38;5;241;43m*\u001b[39;49m\u001b[43mkwargs\u001b[49m\u001b[43m)\u001b[49m\n",
      "File \u001b[1;32mc:\\Users\\msdof\\AppData\\Local\\Programs\\Python\\Python312\\Lib\\site-packages\\pyscreeze\\__init__.py:447\u001b[0m, in \u001b[0;36mlocateCenterOnScreen\u001b[1;34m(image, **kwargs)\u001b[0m\n\u001b[0;32m    443\u001b[0m \u001b[38;5;28;01mdef\u001b[39;00m \u001b[38;5;21mlocateCenterOnScreen\u001b[39m(image, \u001b[38;5;241m*\u001b[39m\u001b[38;5;241m*\u001b[39mkwargs):\n\u001b[0;32m    444\u001b[0m \u001b[38;5;250m    \u001b[39m\u001b[38;5;124;03m\"\"\"\u001b[39;00m\n\u001b[0;32m    445\u001b[0m \u001b[38;5;124;03m    TODO\u001b[39;00m\n\u001b[0;32m    446\u001b[0m \u001b[38;5;124;03m    \"\"\"\u001b[39;00m\n\u001b[1;32m--> 447\u001b[0m     coords \u001b[38;5;241m=\u001b[39m \u001b[43mlocateOnScreen\u001b[49m\u001b[43m(\u001b[49m\u001b[43mimage\u001b[49m\u001b[43m,\u001b[49m\u001b[43m \u001b[49m\u001b[38;5;241;43m*\u001b[39;49m\u001b[38;5;241;43m*\u001b[39;49m\u001b[43mkwargs\u001b[49m\u001b[43m)\u001b[49m\n\u001b[0;32m    448\u001b[0m     \u001b[38;5;28;01mif\u001b[39;00m coords \u001b[38;5;129;01mis\u001b[39;00m \u001b[38;5;28;01mNone\u001b[39;00m:\n\u001b[0;32m    449\u001b[0m         \u001b[38;5;28;01mreturn\u001b[39;00m \u001b[38;5;28;01mNone\u001b[39;00m\n",
      "File \u001b[1;32mc:\\Users\\msdof\\AppData\\Local\\Programs\\Python\\Python312\\Lib\\site-packages\\pyscreeze\\__init__.py:405\u001b[0m, in \u001b[0;36mlocateOnScreen\u001b[1;34m(image, minSearchTime, **kwargs)\u001b[0m\n\u001b[0;32m    401\u001b[0m \u001b[38;5;28;01mtry\u001b[39;00m:\n\u001b[0;32m    402\u001b[0m     \u001b[38;5;66;03m# the locateAll() function must handle cropping to return accurate coordinates,\u001b[39;00m\n\u001b[0;32m    403\u001b[0m     \u001b[38;5;66;03m# so don't pass a region here.\u001b[39;00m\n\u001b[0;32m    404\u001b[0m     screenshotIm \u001b[38;5;241m=\u001b[39m screenshot(region\u001b[38;5;241m=\u001b[39m\u001b[38;5;28;01mNone\u001b[39;00m)\n\u001b[1;32m--> 405\u001b[0m     retVal \u001b[38;5;241m=\u001b[39m \u001b[43mlocate\u001b[49m\u001b[43m(\u001b[49m\u001b[43mimage\u001b[49m\u001b[43m,\u001b[49m\u001b[43m \u001b[49m\u001b[43mscreenshotIm\u001b[49m\u001b[43m,\u001b[49m\u001b[43m \u001b[49m\u001b[38;5;241;43m*\u001b[39;49m\u001b[38;5;241;43m*\u001b[39;49m\u001b[43mkwargs\u001b[49m\u001b[43m)\u001b[49m\n\u001b[0;32m    406\u001b[0m     \u001b[38;5;28;01mtry\u001b[39;00m:\n\u001b[0;32m    407\u001b[0m         screenshotIm\u001b[38;5;241m.\u001b[39mfp\u001b[38;5;241m.\u001b[39mclose()\n",
      "File \u001b[1;32mc:\\Users\\msdof\\AppData\\Local\\Programs\\Python\\Python312\\Lib\\site-packages\\pyscreeze\\__init__.py:383\u001b[0m, in \u001b[0;36mlocate\u001b[1;34m(needleImage, haystackImage, **kwargs)\u001b[0m\n\u001b[0;32m    380\u001b[0m \u001b[38;5;66;03m# Note: The gymnastics in this function is because we want to make sure to exhaust the iterator so that\u001b[39;00m\n\u001b[0;32m    381\u001b[0m \u001b[38;5;66;03m# the needle and haystack files are closed in locateAll.\u001b[39;00m\n\u001b[0;32m    382\u001b[0m kwargs[\u001b[38;5;124m'\u001b[39m\u001b[38;5;124mlimit\u001b[39m\u001b[38;5;124m'\u001b[39m] \u001b[38;5;241m=\u001b[39m \u001b[38;5;241m1\u001b[39m\n\u001b[1;32m--> 383\u001b[0m points \u001b[38;5;241m=\u001b[39m \u001b[38;5;28;43mtuple\u001b[39;49m\u001b[43m(\u001b[49m\u001b[43mlocateAll\u001b[49m\u001b[43m(\u001b[49m\u001b[43mneedleImage\u001b[49m\u001b[43m,\u001b[49m\u001b[43m \u001b[49m\u001b[43mhaystackImage\u001b[49m\u001b[43m,\u001b[49m\u001b[43m \u001b[49m\u001b[38;5;241;43m*\u001b[39;49m\u001b[38;5;241;43m*\u001b[39;49m\u001b[43mkwargs\u001b[49m\u001b[43m)\u001b[49m\u001b[43m)\u001b[49m\n\u001b[0;32m    384\u001b[0m \u001b[38;5;28;01mif\u001b[39;00m \u001b[38;5;28mlen\u001b[39m(points) \u001b[38;5;241m>\u001b[39m \u001b[38;5;241m0\u001b[39m:\n\u001b[0;32m    385\u001b[0m     \u001b[38;5;28;01mreturn\u001b[39;00m points[\u001b[38;5;241m0\u001b[39m]\n",
      "File \u001b[1;32mc:\\Users\\msdof\\AppData\\Local\\Programs\\Python\\Python312\\Lib\\site-packages\\pyscreeze\\__init__.py:273\u001b[0m, in \u001b[0;36m_locateAll_pillow\u001b[1;34m(needleImage, haystackImage, grayscale, limit, region, step, confidence)\u001b[0m\n\u001b[0;32m    269\u001b[0m \u001b[38;5;250m\u001b[39m\u001b[38;5;124;03m\"\"\"\u001b[39;00m\n\u001b[0;32m    270\u001b[0m \u001b[38;5;124;03mTODO\u001b[39;00m\n\u001b[0;32m    271\u001b[0m \u001b[38;5;124;03m\"\"\"\u001b[39;00m\n\u001b[0;32m    272\u001b[0m \u001b[38;5;28;01mif\u001b[39;00m confidence \u001b[38;5;129;01mis\u001b[39;00m \u001b[38;5;129;01mnot\u001b[39;00m \u001b[38;5;28;01mNone\u001b[39;00m:\n\u001b[1;32m--> 273\u001b[0m     \u001b[38;5;28;01mraise\u001b[39;00m \u001b[38;5;167;01mNotImplementedError\u001b[39;00m(\u001b[38;5;124m'\u001b[39m\u001b[38;5;124mThe confidence keyword argument is only available if OpenCV is installed.\u001b[39m\u001b[38;5;124m'\u001b[39m)\n\u001b[0;32m    275\u001b[0m \u001b[38;5;66;03m# setup all the arguments\u001b[39;00m\n\u001b[0;32m    276\u001b[0m \u001b[38;5;28;01mif\u001b[39;00m grayscale \u001b[38;5;129;01mis\u001b[39;00m \u001b[38;5;28;01mNone\u001b[39;00m:\n",
      "\u001b[1;31mNotImplementedError\u001b[0m: The confidence keyword argument is only available if OpenCV is installed."
     ]
    }
   ],
   "source": [
    "import pyautogui\n",
    "import time\n",
    "\n",
    "# Defina os caminhos das imagens de referência (como botões ou ícones)\n",
    "image_paths = [\n",
    "    'Normal.png',\n",
    "    'Chorando.png',\n",
    "    'Surpreso.png',\n",
    "    'Vislumbrado.png'\n",
    "]\n",
    "\n",
    "# Loop infinito para clicar nas coordenadas detectadas dinamicamente e tirar prints\n",
    "while True:\n",
    "    for image in image_paths:\n",
    "        # Tenta localizar o centro da imagem na tela\n",
    "        location = pyautogui.locateCenterOnScreen(image, confidence=0.8)  # Ajuste a confiança se necessário (0.8 é 80%)\n",
    "        \n",
    "        if location is not None:\n",
    "            # Clica no local encontrado\n",
    "            pyautogui.click(location)\n",
    "            time.sleep(3)  # Aguarda 3 segundos antes do próximo clique\n",
    "        else:\n",
    "            print(f\"Imagem {image} não encontrada na tela.\")\n",
    "\n",
    "    # Tira o print após clicar na última coordenada\n",
    "    myScreenshot = pyautogui.screenshot()\n",
    "    myScreenshot.save(r'screenshot.png')\n",
    "    print(\"Print salvo como screenshot.png\")\n",
    "\n",
    "    time.sleep(3)  # Aguarda 3 segundos antes de recomeçar o ciclo\n"
   ]
  }
 ],
 "metadata": {
  "kernelspec": {
   "display_name": "Python 3",
   "language": "python",
   "name": "python3"
  },
  "language_info": {
   "codemirror_mode": {
    "name": "ipython",
    "version": 3
   },
   "file_extension": ".py",
   "mimetype": "text/x-python",
   "name": "python",
   "nbconvert_exporter": "python",
   "pygments_lexer": "ipython3",
   "version": "3.12.0"
  }
 },
 "nbformat": 4,
 "nbformat_minor": 2
}
